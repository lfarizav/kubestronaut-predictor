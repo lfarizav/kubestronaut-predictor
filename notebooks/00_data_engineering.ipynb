{
 "cells": [
  {
   "cell_type": "code",
   "execution_count": 1,
   "id": "736994df",
   "metadata": {},
   "outputs": [
    {
     "name": "stdout",
     "output_type": "stream",
     "text": [
      "✅ Libraries imported.\n"
     ]
    }
   ],
   "source": [
    "# -------------------------------------------------------------\n",
    "# Step 1: Import necessary libraries\n",
    "# -------------------------------------------------------------\n",
    "import pandas as pd\n",
    "import matplotlib.pyplot as plt\n",
    "import seaborn as sns\n",
    "\n",
    "sns.set(style=\"whitegrid\")\n",
    "print(\"✅ Libraries imported.\")\n"
   ]
  },
  {
   "cell_type": "code",
   "execution_count": 2,
   "id": "62836f25",
   "metadata": {},
   "outputs": [
    {
     "name": "stdout",
     "output_type": "stream",
     "text": [
      "📥 Loading dataset...\n",
      "✅ Dataset loaded successfully!\n",
      "Initial data shape: (77, 8)\n",
      "\n",
      "🔍 Preview of data:\n",
      "   final_result  theory_hours  lab_hours  number_full_exam_done  \\\n",
      "0      0.245754           527        600                    2.0   \n",
      "1      0.502498          1526       1600                    3.0   \n",
      "2      0.069930          1622       1800                    2.0   \n",
      "3      0.960040          2102       2200                    4.0   \n",
      "4      0.212787           835        900                    2.0   \n",
      "\n",
      "   cncf_try_numbers    location  born_year selfassessment  \n",
      "0               1.5      Suburb       1956           Good  \n",
      "1               2.5    Downtown       1998      Excellent  \n",
      "2               1.5       Rural       1975           Fair  \n",
      "3               3.0  Waterfront       2005      Excellent  \n",
      "4               2.0       Urban       1982           Good  \n"
     ]
    }
   ],
   "source": [
    "# -------------------------------------------------------------\n",
    "# Step 2: Load the raw dataset\n",
    "# -------------------------------------------------------------\n",
    "print(\"📥 Loading dataset...\")\n",
    "\n",
    "df = pd.read_csv(\"../data/raw/kubestronaut_predictor_data.csv\")\n",
    "\n",
    "print(\"✅ Dataset loaded successfully!\")\n",
    "print(\"Initial data shape:\", df.shape)\n",
    "print(\"\\n🔍 Preview of data:\")\n",
    "print(df.head())\n"
   ]
  },
  {
   "cell_type": "code",
   "execution_count": 3,
   "id": "c2b950e8",
   "metadata": {},
   "outputs": [
    {
     "name": "stdout",
     "output_type": "stream",
     "text": [
      "\n",
      "📊 Data types and null value check:\n",
      "<class 'pandas.core.frame.DataFrame'>\n",
      "RangeIndex: 77 entries, 0 to 76\n",
      "Data columns (total 8 columns):\n",
      " #   Column                 Non-Null Count  Dtype  \n",
      "---  ------                 --------------  -----  \n",
      " 0   final_result           77 non-null     float64\n",
      " 1   theory_hours           77 non-null     int64  \n",
      " 2   lab_hours              77 non-null     int64  \n",
      " 3   number_full_exam_done  77 non-null     float64\n",
      " 4   cncf_try_numbers       77 non-null     float64\n",
      " 5   location               77 non-null     object \n",
      " 6   born_year              77 non-null     int64  \n",
      " 7   selfassessment         77 non-null     object \n",
      "dtypes: float64(3), int64(3), object(2)\n",
      "memory usage: 4.9+ KB\n",
      "None\n",
      "\n",
      "❓ Any missing values?\n",
      "final_result             0\n",
      "theory_hours             0\n",
      "lab_hours                0\n",
      "number_full_exam_done    0\n",
      "cncf_try_numbers         0\n",
      "location                 0\n",
      "born_year                0\n",
      "selfassessment           0\n",
      "dtype: int64\n"
     ]
    }
   ],
   "source": [
    "# -------------------------------------------------------------\n",
    "# Step 3: Understand structure — schema, datatypes, nulls\n",
    "# -------------------------------------------------------------\n",
    "print(\"\\n📊 Data types and null value check:\")\n",
    "print(df.info())\n",
    "\n",
    "print(\"\\n❓ Any missing values?\")\n",
    "print(df.isnull().sum())\n"
   ]
  },
  {
   "cell_type": "code",
   "execution_count": 4,
   "id": "07db6129",
   "metadata": {},
   "outputs": [],
   "source": [
    "# Step 3: Drop malformed rows (like the one with missing columns)\n",
    "df = df.dropna()\n",
    "df = df[df['final_result'] > 10000]  # basic sanity checks\n",
    "df = df[df['theory_hours'] > 200]"
   ]
  },
  {
   "cell_type": "code",
   "execution_count": 5,
   "id": "bdfc4ed3",
   "metadata": {},
   "outputs": [
    {
     "name": "stdout",
     "output_type": "stream",
     "text": [
      "\n",
      "🧹 Cleaning column names (lowercase, underscores)...\n",
      "✅ Column names standardized:\n",
      "['final_result', 'theory_hours', 'lab_hours', 'number_full_exam_done', 'cncf_try_numbers', 'location', 'born_year', 'selfassessment']\n"
     ]
    }
   ],
   "source": [
    "# -------------------------------------------------------------\n",
    "# Step 4: Standardize column names (basic cleanup)\n",
    "# -------------------------------------------------------------\n",
    "print(\"\\n🧹 Cleaning column names (lowercase, underscores)...\")\n",
    "\n",
    "df.columns = df.columns.str.strip().str.lower().str.replace(\" \", \"_\")\n",
    "print(\"✅ Column names standardized:\")\n",
    "print(df.columns.tolist())\n"
   ]
  },
  {
   "cell_type": "code",
   "execution_count": 6,
   "id": "a68cd985",
   "metadata": {},
   "outputs": [
    {
     "name": "stdout",
     "output_type": "stream",
     "text": [
      "\n",
      "📈 Basic summary stats for numeric columns:\n",
      "       final_result  theory_hours  lab_hours  number_full_exam_done  \\\n",
      "count           0.0           0.0        0.0                    0.0   \n",
      "mean            NaN           NaN        NaN                    NaN   \n",
      "std             NaN           NaN        NaN                    NaN   \n",
      "min             NaN           NaN        NaN                    NaN   \n",
      "25%             NaN           NaN        NaN                    NaN   \n",
      "50%             NaN           NaN        NaN                    NaN   \n",
      "75%             NaN           NaN        NaN                    NaN   \n",
      "max             NaN           NaN        NaN                    NaN   \n",
      "\n",
      "       cncf_try_numbers  born_year  \n",
      "count               0.0        0.0  \n",
      "mean                NaN        NaN  \n",
      "std                 NaN        NaN  \n",
      "min                 NaN        NaN  \n",
      "25%                 NaN        NaN  \n",
      "50%                 NaN        NaN  \n",
      "75%                 NaN        NaN  \n",
      "max                 NaN        NaN  \n"
     ]
    }
   ],
   "source": [
    "# -------------------------------------------------------------\n",
    "# Step 5: Basic stats check (spot outliers or issues)\n",
    "# -------------------------------------------------------------\n",
    "print(\"\\n📈 Basic summary stats for numeric columns:\")\n",
    "print(df.describe())\n"
   ]
  },
  {
   "cell_type": "code",
   "execution_count": 7,
   "id": "aad7fb79",
   "metadata": {},
   "outputs": [
    {
     "name": "stdout",
     "output_type": "stream",
     "text": [
      "\n",
      "📊 Plotting distribution of kubestronaut final result...\n"
     ]
    },
    {
     "data": {
      "image/png": "[encoded data removed]",
      "text/plain": [
       "<Figure size 800x500 with 1 Axes>"
      ]
     },
     "metadata": {},
     "output_type": "display_data"
    }
   ],
   "source": [
    "# -------------------------------------------------------------\n",
    "# Step 6: Visual check for distributions (e.g. Kubestronaut results, Theory hours)\n",
    "# -------------------------------------------------------------\n",
    "print(\"\\n📊 Plotting distribution of kubestronaut final result...\")\n",
    "\n",
    "plt.figure(figsize=(8, 5))\n",
    "sns.histplot(df[\"final_result\"], kde=True, bins=10)\n",
    "plt.title(\"Distribution of kubestronaut final result\")\n",
    "plt.xlabel(\"final_result\")\n",
    "plt.ylabel(\"Count\")\n",
    "plt.show()\n"
   ]
  },
  {
   "cell_type": "code",
   "execution_count": 8,
   "id": "7e596b70",
   "metadata": {},
   "outputs": [
    {
     "name": "stdout",
     "output_type": "stream",
     "text": [
      "\n",
      "🔍 Looking for negative or unrealistic values...\n",
      "✅ No negative values found in final_result.\n",
      "✅ No negative values found in theory_hours.\n",
      "✅ No negative values found in lab_hours.\n",
      "✅ No negative values found in number_full_exam_done.\n",
      "✅ No negative values found in cncf_try_numbers.\n",
      "✅ No negative values found in born_year.\n"
     ]
    }
   ],
   "source": [
    "# -------------------------------------------------------------\n",
    "# Step 7: Check for obvious data issues\n",
    "# -------------------------------------------------------------\n",
    "print(\"\\n🔍 Looking for negative or unrealistic values...\")\n",
    "\n",
    "for col in ['final_result', 'theory_hours', 'lab_hours', 'number_full_exam_done', 'cncf_try_numbers', 'born_year']:\n",
    "    invalid = df[df[col] < 0]\n",
    "    if not invalid.empty:\n",
    "        print(f\"⚠️ Found negative values in {col}:\\n{invalid}\")\n",
    "    else:\n",
    "        print(f\"✅ No negative values found in {col}.\")\n"
   ]
  },
  {
   "cell_type": "code",
   "execution_count": 9,
   "id": "539e313e",
   "metadata": {},
   "outputs": [
    {
     "name": "stdout",
     "output_type": "stream",
     "text": [
      "\n",
      "🧹 Checking for duplicate rows...\n",
      "✅ No duplicate rows found.\n"
     ]
    }
   ],
   "source": [
    "# -------------------------------------------------------------\n",
    "# Step 8: Drop duplicates if any\n",
    "# -------------------------------------------------------------\n",
    "print(\"\\n🧹 Checking for duplicate rows...\")\n",
    "\n",
    "duplicates = df.duplicated().sum()\n",
    "if duplicates > 0:\n",
    "    print(f\"⚠️ Found {duplicates} duplicate rows. Dropping them...\")\n",
    "    df = df.drop_duplicates()\n",
    "else:\n",
    "    print(\"✅ No duplicate rows found.\")\n"
   ]
  },
  {
   "cell_type": "code",
   "execution_count": 10,
   "id": "f2ba22c2",
   "metadata": {},
   "outputs": [
    {
     "name": "stdout",
     "output_type": "stream",
     "text": [
      "\n",
      "💾 Saving cleaned version to interim file (optional step)...\n",
      "✅ Data engineering preprocessing complete!\n"
     ]
    }
   ],
   "source": [
    "# -------------------------------------------------------------\n",
    "# Step 9: Save the cleaned version (optional here)\n",
    "# -------------------------------------------------------------\n",
    "print(\"\\n💾 Saving cleaned version to interim file (optional step)...\")\n",
    "\n",
    "# Uncomment if you want to save at this point\n",
    "# df.to_csv(\"../data/interim/cleaned_house_data_v1.csv\", index=False)\n",
    "print(\"✅ Data engineering preprocessing complete!\")\n"
   ]
  },
  {
   "cell_type": "code",
   "execution_count": 11,
   "id": "917eaa02",
   "metadata": {
    "vscode": {
     "languageId": "shellscript"
    }
   },
   "outputs": [],
   "source": [
    "#ls -al\n",
    "#cd /home/luis/hosue-price-predictor/deployment/mlflow\n",
    "#docker compose up -d\n",
    "#source .venv/bin/activate"
   ]
  }
 ],
 "metadata": {
  "kernelspec": {
   "display_name": "kubestronaut-predictor",
   "language": "python",
   "name": "python3"
  },
  "language_info": {
   "codemirror_mode": {
    "name": "ipython",
    "version": 3
   },
   "file_extension": ".py",
   "mimetype": "text/x-python",
   "name": "python",
   "nbconvert_exporter": "python",
   "pygments_lexer": "ipython3",
   "version": "3.11.13"
  }
 },
 "nbformat": 4,
 "nbformat_minor": 5
}
