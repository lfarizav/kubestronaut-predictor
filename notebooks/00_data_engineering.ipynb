{
 "cells": [
  {
   "cell_type": "code",
   "execution_count": 29,
   "id": "736994df",
   "metadata": {},
   "outputs": [
    {
     "name": "stdout",
     "output_type": "stream",
     "text": [
      "✅ Libraries imported.\n"
     ]
    }
   ],
   "source": [
    "# -------------------------------------------------------------\n",
    "# Step 1: Import necessary libraries\n",
    "# -------------------------------------------------------------\n",
    "import pandas as pd\n",
    "import matplotlib.pyplot as plt\n",
    "import seaborn as sns\n",
    "\n",
    "sns.set(style=\"whitegrid\")\n",
    "print(\"✅ Libraries imported.\")\n"
   ]
  },
  {
   "cell_type": "code",
   "execution_count": 30,
   "id": "62836f25",
   "metadata": {},
   "outputs": [
    {
     "name": "stdout",
     "output_type": "stream",
     "text": [
      "📥 Loading dataset...\n",
      "✅ Dataset loaded successfully!\n",
      "Initial data shape: (1000, 6)\n",
      "\n",
      "🔍 Preview of data:\n",
      "   theory_hours  lab_hours  k8s_experience_level  response_speed  \\\n",
      "0           102        110                     2           55.48   \n",
      "1           179        227                     7           43.46   \n",
      "2            92        110                     9           51.46   \n",
      "3            14         33                     3           53.95   \n",
      "4           106        110                     1           38.59   \n",
      "\n",
      "   exam_attempts  final_result  \n",
      "0              5             0  \n",
      "1              1             0  \n",
      "2              5             0  \n",
      "3              5             0  \n",
      "4              5             1  \n",
      "Maximum values for each column:\n",
      "theory_hours            200.00\n",
      "lab_hours               300.00\n",
      "k8s_experience_level     10.00\n",
      "response_speed           59.89\n",
      "exam_attempts             5.00\n",
      "final_result              1.00\n",
      "dtype: float64\n"
     ]
    }
   ],
   "source": [
    "# -------------------------------------------------------------\n",
    "# Step 2: Load the raw dataset\n",
    "# -------------------------------------------------------------\n",
    "print(\"📥 Loading dataset...\")\n",
    "\n",
    "df = pd.read_csv(\"../data/processed/cleaned-kubestronaut-prediction-data.csv\")\n",
    "\n",
    "print(\"✅ Dataset loaded successfully!\")\n",
    "print(\"Initial data shape:\", df.shape)\n",
    "print(\"\\n🔍 Preview of data:\")\n",
    "print(df.head())\n",
    "\n",
    "# Get the maximum value of each column\n",
    "print(\"Maximum values for each column:\")\n",
    "max_values = df.max()\n",
    "print(max_values)\n"
   ]
  },
  {
   "cell_type": "code",
   "execution_count": 25,
   "id": "c2b950e8",
   "metadata": {},
   "outputs": [
    {
     "name": "stdout",
     "output_type": "stream",
     "text": [
      "\n",
      "📊 Data types and null value check:\n",
      "<class 'pandas.core.frame.DataFrame'>\n",
      "Int64Index: 0 entries\n",
      "Data columns (total 6 columns):\n",
      " #   Column                Non-Null Count  Dtype  \n",
      "---  ------                --------------  -----  \n",
      " 0   theory_hours          0 non-null      int64  \n",
      " 1   lab_hours             0 non-null      int64  \n",
      " 2   k8s_experience_level  0 non-null      int64  \n",
      " 3   response_speed        0 non-null      float64\n",
      " 4   exam_attempts         0 non-null      int64  \n",
      " 5   final_result          0 non-null      int64  \n",
      "dtypes: float64(1), int64(5)\n",
      "memory usage: 0.0 bytes\n",
      "None\n",
      "\n",
      "❓ Any missing values?\n",
      "theory_hours            0.0\n",
      "lab_hours               0.0\n",
      "k8s_experience_level    0.0\n",
      "response_speed          0.0\n",
      "exam_attempts           0.0\n",
      "final_result            0.0\n",
      "dtype: float64\n"
     ]
    }
   ],
   "source": [
    "# -------------------------------------------------------------\n",
    "# Step 3: Understand structure — schema, datatypes, nulls\n",
    "# -------------------------------------------------------------\n",
    "print(\"\\n📊 Data types and null value check:\")\n",
    "print(df.info())\n",
    "\n",
    "print(\"\\n❓ Any missing values?\")\n",
    "print(df.isnull().sum())\n"
   ]
  },
  {
   "cell_type": "code",
   "execution_count": 32,
   "id": "07db6129",
   "metadata": {},
   "outputs": [],
   "source": [
    "# Step 3: Drop malformed rows (like the one with missing columns)\n",
    "df = df.dropna()\n",
    "df = df[df['theory_hours'] > 1]  # basic sanity checks\n",
    "df = df[df['lab_hours'] > 1]"
   ]
  },
  {
   "cell_type": "code",
   "execution_count": 33,
   "id": "bdfc4ed3",
   "metadata": {},
   "outputs": [
    {
     "name": "stdout",
     "output_type": "stream",
     "text": [
      "\n",
      "🧹 Cleaning column names (lowercase, underscores)...\n",
      "✅ Column names standardized:\n",
      "['theory_hours', 'lab_hours', 'k8s_experience_level', 'response_speed', 'exam_attempts', 'final_result']\n"
     ]
    }
   ],
   "source": [
    "# -------------------------------------------------------------\n",
    "# Step 4: Standardize column names (basic cleanup)\n",
    "# -------------------------------------------------------------\n",
    "print(\"\\n🧹 Cleaning column names (lowercase, underscores)...\")\n",
    "\n",
    "df.columns = df.columns.str.strip().str.lower().str.replace(\" \", \"_\")\n",
    "print(\"✅ Column names standardized:\")\n",
    "print(df.columns.tolist())\n"
   ]
  },
  {
   "cell_type": "code",
   "execution_count": 34,
   "id": "a68cd985",
   "metadata": {},
   "outputs": [
    {
     "name": "stdout",
     "output_type": "stream",
     "text": [
      "\n",
      "📈 Basic summary stats for numeric columns:\n",
      "       theory_hours   lab_hours  k8s_experience_level  response_speed  \\\n",
      "count    941.000000  941.000000            941.000000      941.000000   \n",
      "mean     106.821467  150.047821              4.897981       34.621488   \n",
      "std       54.618892   88.309410              3.053461       14.309895   \n",
      "min       11.000000    2.000000              0.000000       10.000000   \n",
      "25%       57.000000   75.000000              2.000000       23.000000   \n",
      "50%      109.000000  151.000000              5.000000       34.380000   \n",
      "75%      152.000000  225.000000              8.000000       46.450000   \n",
      "max      200.000000  300.000000             10.000000       59.890000   \n",
      "\n",
      "       exam_attempts  final_result  \n",
      "count     941.000000    941.000000  \n",
      "mean        3.074389      0.048884  \n",
      "std         1.414512      0.215741  \n",
      "min         1.000000      0.000000  \n",
      "25%         2.000000      0.000000  \n",
      "50%         3.000000      0.000000  \n",
      "75%         4.000000      0.000000  \n",
      "max         5.000000      1.000000  \n"
     ]
    }
   ],
   "source": [
    "# -------------------------------------------------------------\n",
    "# Step 5: Basic stats check (spot outliers or issues)\n",
    "# -------------------------------------------------------------\n",
    "print(\"\\n📈 Basic summary stats for numeric columns:\")\n",
    "print(df.describe())\n"
   ]
  },
  {
   "cell_type": "code",
   "execution_count": 35,
   "id": "aad7fb79",
   "metadata": {},
   "outputs": [
    {
     "name": "stdout",
     "output_type": "stream",
     "text": [
      "\n",
      "📊 Plotting distribution of theory hours...\n"
     ]
    },
    {
     "data": {
      "image/png": "[encoded data removed]",
      "text/plain": [
       "<Figure size 800x500 with 1 Axes>"
      ]
     },
     "metadata": {},
     "output_type": "display_data"
    }
   ],
   "source": [
    "# -------------------------------------------------------------\n",
    "# Step 6: Visual check for distributions (e.g. price, sqft)\n",
    "# -------------------------------------------------------------\n",
    "print(\"\\n📊 Plotting distribution of theory hours...\")\n",
    "\n",
    "plt.figure(figsize=(8, 5))\n",
    "sns.histplot(df[\"theory_hours\"], kde=True, bins=10)\n",
    "plt.title(\"Distribution of theory hours\")\n",
    "plt.xlabel(\"theory_hours\")\n",
    "plt.ylabel(\"Count\")\n",
    "plt.show()\n"
   ]
  },
  {
   "cell_type": "code",
   "execution_count": 36,
   "id": "7e596b70",
   "metadata": {},
   "outputs": [
    {
     "name": "stdout",
     "output_type": "stream",
     "text": [
      "\n",
      "🔍 Looking for negative or unrealistic values...\n",
      "✅ No negative values found in theory_hours.\n",
      "✅ No negative values found in lab_hours.\n",
      "✅ No negative values found in k8s_experience_level.\n",
      "✅ No negative values found in response_speed.\n",
      "✅ No negative values found in exam_attempts.\n"
     ]
    }
   ],
   "source": [
    "# -------------------------------------------------------------\n",
    "# Step 7: Check for obvious data issues\n",
    "# -------------------------------------------------------------\n",
    "print(\"\\n🔍 Looking for negative or unrealistic values...\")\n",
    "\n",
    "for col in ['theory_hours', 'lab_hours', 'k8s_experience_level', 'response_speed', 'exam_attempts']:\n",
    "    invalid = df[df[col] < 0]\n",
    "    if not invalid.empty:\n",
    "        print(f\"⚠️ Found negative values in {col}:\\n{invalid}\")\n",
    "    else:\n",
    "        print(f\"✅ No negative values found in {col}.\")\n"
   ]
  },
  {
   "cell_type": "code",
   "execution_count": 37,
   "id": "539e313e",
   "metadata": {},
   "outputs": [
    {
     "name": "stdout",
     "output_type": "stream",
     "text": [
      "\n",
      "🧹 Checking for duplicate rows...\n",
      "✅ No duplicate rows found.\n"
     ]
    }
   ],
   "source": [
    "# -------------------------------------------------------------\n",
    "# Step 8: Drop duplicates if any\n",
    "# -------------------------------------------------------------\n",
    "print(\"\\n🧹 Checking for duplicate rows...\")\n",
    "\n",
    "duplicates = df.duplicated().sum()\n",
    "if duplicates > 0:\n",
    "    print(f\"⚠️ Found {duplicates} duplicate rows. Dropping them...\")\n",
    "    df = df.drop_duplicates()\n",
    "else:\n",
    "    print(\"✅ No duplicate rows found.\")\n"
   ]
  },
  {
   "cell_type": "code",
   "execution_count": 38,
   "id": "f2ba22c2",
   "metadata": {},
   "outputs": [
    {
     "name": "stdout",
     "output_type": "stream",
     "text": [
      "\n",
      "💾 Saving cleaned version to interim file (optional step)...\n",
      "✅ Data engineering preprocessing complete!\n"
     ]
    }
   ],
   "source": [
    "# -------------------------------------------------------------\n",
    "# Step 9: Save the cleaned version (optional here)\n",
    "# -------------------------------------------------------------\n",
    "print(\"\\n💾 Saving cleaned version to interim file (optional step)...\")\n",
    "\n",
    "# Uncomment if you want to save at this point\n",
    "# df.to_csv(\"../data/interim/cleaned_house_data_v1.csv\", index=False)\n",
    "print(\"✅ Data engineering preprocessing complete!\")\n"
   ]
  }
 ],
 "metadata": {
  "kernelspec": {
   "display_name": "kubestronaut-certification-predictor",
   "language": "python",
   "name": "python3"
  },
  "language_info": {
   "codemirror_mode": {
    "name": "ipython",
    "version": 3
   },
   "file_extension": ".py",
   "mimetype": "text/x-python",
   "name": "python",
   "nbconvert_exporter": "python",
   "pygments_lexer": "ipython3",
   "version": "3.11.13"
  }
 },
 "nbformat": 4,
 "nbformat_minor": 5
}
